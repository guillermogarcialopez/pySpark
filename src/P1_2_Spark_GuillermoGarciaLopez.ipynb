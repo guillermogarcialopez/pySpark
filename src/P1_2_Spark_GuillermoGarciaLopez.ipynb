{
 "cells": [
  {
   "cell_type": "markdown",
   "metadata": {},
   "source": [
    "<h1>Práctica 1 PySpark</h1>  "
   ]
  },
  {
   "cell_type": "markdown",
   "metadata": {},
   "source": [
    "<h5>Autor: Guillermo García López<h5>"
   ]
  },
  {
   "cell_type": "markdown",
   "metadata": {},
   "source": [
    "Procesado de un fichero de datos de sensores\n",
    "Vamos a trabajar con el conjunto de datos del Heterogeneity Dataset for Human Activity Recognition\n",
    "(HHAR) que contiene información de los sensores de movimientos de teléfonos y relojes. El enlace a los\n",
    "datos es: https://archive.ics.uci.edu/ml/datasets/Heterogeneity+Activity+Recognition+Data+Set .\n",
    "\n",
    "Los datos contienen mediciones de sensores de movimiento mientras los usuarios realizaban determinadas\n",
    "acciones. El objetivo del conjunto de datos es el de reconocer las acciones que los usuarios realizan.\n",
    "Aunque en esta práctica nos limitaremos a procesar el fichero, que sería en cualquier caso el paso previo\n",
    "necesario al reconocimiento. Las posibles acciones que contiene el fichero son: ‘Biking’, ‘Sitting’,\n",
    "‘Standing’, ‘Walking’, ‘Stair Up’ y ‘Stair down’. Los sensores medidos son: giróscopo y acelerómetro.\n",
    "Los tipos de dispositivos son teléfonos y relojes.\n",
    "\n",
    "Los fichero que vamos a utilizar son: Phones_accelerometer.csv, Phones_gyroscope.csv,\n",
    "Watch_accelerometer.csv y Watch_gyroscope.csv. Las columnas de los ficheros son: 'Index',\n",
    "'Arrival_Time', 'Creation_Time', 'x', 'y', 'z', 'User', 'Model', 'Device', 'gt'. El contenido de las distintas\n",
    "columnas es:\n",
    "\n",
    "- Index: El identificador del registro.\n",
    "\n",
    "- Arrival_Time: el tiempo de la medición cuando la medida llega a la aplicación.\n",
    "\n",
    "- Creation_Time: Timestamp dado por el SO.\n",
    "\n",
    "- X,y,z: Valores de la medición dados por en los ejes: x,y,z.\n",
    "\n",
    "- User: Identificador del usuario que realiza la acción con valores de ‘a’ a ‘i’.\n",
    "\n",
    "- Model: Modelo del teléfono/reloj.\n",
    "\n",
    "- Device: El aparato concreto que toma las mediciones. Para un mismo modelo pueden tener varios\n",
    "aparatos.\n",
    "\n",
    "- Gt: Actividad que el usuario está realizando de entre: bike sit, stand, walk, stairsup, stairsdown\n",
    "and null.\n",
    "\n",
    "\n",
    "\n",
    "\n",
    "Para cada ejecución de una acción por parte de un usuario, los ficheros contienen una serie de filas\n",
    "(mediciones) que describen el movimiento. El objetivo será el agregar usando como clave primaria la terna\n",
    "usuario (User), modelo (Model) y movimiento ejecutado (gt). En concreto, hay que crear un RDD (por\n",
    "cada fichero) con un registro por cada usuario, modelo y clase con la media, desviación estándar y valor\n",
    "máximo y mínimo de la secuencia del movimiento ejecutado. Una vez hecho esto, se deberá concatenar\n",
    "mediante join los registros de giróscopo y acelerómetro de los relojes por un lado y de los teléfonos por\n",
    "otro. Finalmente se creará un RDD único (mediante union) con los RDDs de teléfonos y relojes.\n",
    "\n",
    "Ejemplo del fichero:\n",
    "Index,Arrival_Time,Creation_Time,x,y,z,User,Model,Device,gt\n",
    "0,1424696633908,1424696631913248572,-5.958191,0.6880646,8.135345,a,nexus4,nexus4_1,stand\n",
    "1,1424696633909,1424696631918283972,-5.95224,0.6702118,8.136536,a,nexus4,nexus4_1,stand\n",
    "2,1424696633918,1424696631923288855,-5.9950867,0.6535491999999999,8.204376,a,nexus4,nexus4_1,stand\n",
    "3,1424696633919,1424696631928385290,-5.9427185,0.6761626999999999,8.128204,a,nexus4,nexus4_1,stand\n",
    "\n",
    "Ejemplo de juguete:\n",
    "\n",
    "0,1424696633908,1424696631913248572,-1.0,0.6,8.2,a,nexus4,nexus4_1,stand\n",
    "1,1424696633909,1424696631918283972,-5.0,0.8,8.2,a,nexus4,nexus4_1,stand\n",
    "\n",
    "RDD de salida posible tras procesar el fichero (pueden tener un formato distinto pero debe incluir esta\n",
    "información):\n",
    "\n",
    "User,Model,gt,media(x,y,z),desviacion(x,y,z),max(x,y,z),min(x,y,z)\n",
    "\n",
    "a, nexus4,stand,-3.0,0.7,8.2,2.8,0.14,0.0,-1.0,0.8,8.2,-5.0,0.6,8.2\n",
    "\n",
    "Analiza los tiempos de ejecución variando el número de cores a utilizar."
   ]
  },
  {
   "cell_type": "markdown",
   "metadata": {},
   "source": [
    "<h6>Resolución:</h6>"
   ]
  },
  {
   "cell_type": "code",
   "execution_count": null,
   "metadata": {},
   "outputs": [],
   "source": [
    "# Librerías Spark:\n",
    "from pyspark import SparkContext   \n",
    "from pyspark import SparkConf\n",
    "from statistics import mean, stdev # media, stdev de librería statistics\n",
    "import time as t                   # medida de tiempo para cálculo de tiempos de ejecución"
   ]
  },
  {
   "cell_type": "markdown",
   "metadata": {},
   "source": [
    "Se \"detiene\" el SparkContext antes de resetear la config para cambiar número de cores (este comando no debería\n",
    "ejecutarse en la primera ejecución al no haber creada una SparkSession):"
   ]
  },
  {
   "cell_type": "code",
   "execution_count": null,
   "metadata": {},
   "outputs": [],
   "source": [
    "sc.stop()"
   ]
  },
  {
   "cell_type": "markdown",
   "metadata": {},
   "source": [
    "Una vez realizada la ejecución con un número determinado de cores, se cambia la configuración para modificar \n",
    "dicho número:"
   ]
  },
  {
   "cell_type": "code",
   "execution_count": null,
   "metadata": {},
   "outputs": [],
   "source": [
    "#cores = 4\n",
    "#sc = SparkContext(conf=SparkConf().set(\"spark.executor.cores\", cores)\n",
    "#                                  .set(\"spark.driver.cores\", cores))\n",
    "sc = SparkContext(conf=SparkConf())"
   ]
  },
  {
   "cell_type": "markdown",
   "metadata": {},
   "source": [
    "Tiempo inicial de ejecución:"
   ]
  },
  {
   "cell_type": "code",
   "execution_count": null,
   "metadata": {},
   "outputs": [],
   "source": [
    "init_time = t.time()"
   ]
  },
  {
   "cell_type": "code",
   "execution_count": null,
   "metadata": {},
   "outputs": [],
   "source": [
    "'''Se crea una función que crea un RDD mediante la importación de un fichero csv, y devuelve los datos en tupla con\n",
    "el siguiente orden: User | Model | Gt | Index | Arrival_Time | Creation_Time | x | y | z | Device , casteando\n",
    "los datos según el tipo de dato.\n",
    "\n",
    "Input  -> nombre de fichero .csv\n",
    "Output -> rdd con formato User | Model | Gt | Index | Arrival_Time | Creation_Time | x | y | z | Device\n",
    "\n",
    "'''\n",
    "\n",
    "def creaRDD(file):\n",
    "    \n",
    "    RDD = sc.textFile(file) \\\n",
    "            .map(lambda el: el.split(',')) \\\n",
    "            .map(lambda el: (el[6], el[7], el[9], int(el[0]), int(el[1]), float(el[2]), \\\n",
    "                             float(el[3]), float(el[4]), float(el[5]), el[8]) ) \n",
    "            \n",
    "    return RDD"
   ]
  },
  {
   "cell_type": "code",
   "execution_count": null,
   "metadata": {},
   "outputs": [],
   "source": [
    "aux1 = creaRDD(\"./small_data/Phones_accelerometer.csv\")\n",
    "#print(aux1.collect()[0])"
   ]
  },
  {
   "cell_type": "code",
   "execution_count": null,
   "metadata": {},
   "outputs": [],
   "source": [
    "'''Función a la cual se le pasa un RDD y una variable tipo string x,y ó z y retorna otro RDD con (clave 3 campos), \n",
    "media(col), std(col), max(col), min(col). Se usan las funciones mean, std de la librería statistics.\n",
    "\n",
    "Input: rdd a tratar; variable string a seleccionar\n",
    "Output: rdd con ((clave), media, std, max, min)\n",
    "'''\n",
    "\n",
    "def calc_estad(rdd, var):\n",
    "    if var == 'x':\n",
    "        alt = rdd.map(lambda el: ( (el[0], el[1], el[2]) , el[6]) )\n",
    "    elif var == 'y':\n",
    "        alt = rdd.map(lambda el: ( (el[0], el[1], el[2]) , el[7]) )\n",
    "    else:\n",
    "        alt = rdd.map(lambda el: ( (el[0], el[1], el[2]) , el[8]) )\n",
    "        \n",
    "    rdd_est = alt.groupByKey() \\\n",
    "                 .map(lambda el: (el[0], list(el[1]) ) ) \\\n",
    "                 .map(lambda el: (el[0], (mean(el[1]), stdev(el[1]), max(el[1]), min(el[1])) ) ) \n",
    "            \n",
    "            \n",
    "    return rdd_est"
   ]
  },
  {
   "cell_type": "code",
   "execution_count": null,
   "metadata": {},
   "outputs": [],
   "source": [
    "# Para tener en un mismo RDD todos los datos de las tres variables x, y, z, se fusionan mediante join's:\n",
    "rddPhAc = calc_estad(aux1, 'x').join(calc_estad(aux1, 'y')).join(calc_estad(aux1, 'z'))\n",
    "#print(rddPhAc.collect())"
   ]
  },
  {
   "cell_type": "code",
   "execution_count": null,
   "metadata": {},
   "outputs": [],
   "source": [
    "# Se repite el tratamiento para el fichero de Phones_gyroscope.csv:\n",
    "aux2 = creaRDD(\"./small_data/Phones_gyroscope.csv\")\n",
    "#print(aux2.collect()[0])"
   ]
  },
  {
   "cell_type": "code",
   "execution_count": null,
   "metadata": {
    "scrolled": true
   },
   "outputs": [],
   "source": [
    "#print(calc_estad(aux2, 'x').collect())"
   ]
  },
  {
   "cell_type": "code",
   "execution_count": null,
   "metadata": {},
   "outputs": [],
   "source": [
    "rddPhGyr = calc_estad(aux2, 'x').join(calc_estad(aux2, 'y')).join(calc_estad(aux2, 'z'))\n",
    "#print(rddPhGyr.collect())"
   ]
  },
  {
   "cell_type": "code",
   "execution_count": null,
   "metadata": {},
   "outputs": [],
   "source": [
    "# Una vez que tenemos los RDDs resultantes de los ficheros Phones_accelerometer.csv y Phones_gyroscope.csv\n",
    "# realizamos join para fusionar ambos:\n",
    "rddPhones = rddPhAc.join(rddPhGyr)"
   ]
  },
  {
   "cell_type": "code",
   "execution_count": null,
   "metadata": {},
   "outputs": [],
   "source": [
    "#print(rddPhones.collect())"
   ]
  },
  {
   "cell_type": "code",
   "execution_count": null,
   "metadata": {},
   "outputs": [],
   "source": [
    "# Repetimos el tratamiento para ambos ficheros de relojes Watch_accelerometer.csv y Watch_gyroscope.csv:\n",
    "# Watch_accelerometer.csv\n",
    "aux3 = creaRDD(\"./small_data/Watch_accelerometer.csv\")\n",
    "#print(aux3.collect()[0])"
   ]
  },
  {
   "cell_type": "code",
   "execution_count": null,
   "metadata": {},
   "outputs": [],
   "source": [
    "#print(calc_estad(aux3, 'x').collect())"
   ]
  },
  {
   "cell_type": "code",
   "execution_count": null,
   "metadata": {},
   "outputs": [],
   "source": [
    "rddWatAc = calc_estad(aux3, 'x').join(calc_estad(aux3, 'y')).join(calc_estad(aux3, 'z'))\n",
    "#print(rddWatAc.collect())"
   ]
  },
  {
   "cell_type": "code",
   "execution_count": null,
   "metadata": {},
   "outputs": [],
   "source": [
    "# Watch_gyroscope.csv\n",
    "aux4 = creaRDD(\"./small_data/Watch_gyroscope.csv\")\n",
    "#print(aux4.collect()[0])"
   ]
  },
  {
   "cell_type": "code",
   "execution_count": null,
   "metadata": {},
   "outputs": [],
   "source": [
    "#print(calc_estad(aux4, 'x').collect())"
   ]
  },
  {
   "cell_type": "code",
   "execution_count": null,
   "metadata": {},
   "outputs": [],
   "source": [
    "rddWatGyr = calc_estad(aux4, 'x').join(calc_estad(aux4, 'y')).join(calc_estad(aux4, 'z'))\n",
    "#print(rddWatGyr.collect())"
   ]
  },
  {
   "cell_type": "code",
   "execution_count": null,
   "metadata": {},
   "outputs": [],
   "source": [
    "# Se fusionan ambos con join's:\n",
    "rddWatches = rddWatAc.join(rddWatGyr)\n",
    "#print(rddWatches.collect())"
   ]
  },
  {
   "cell_type": "code",
   "execution_count": null,
   "metadata": {},
   "outputs": [],
   "source": [
    "# Finalmente se unen los RDD's de teléfonos y relojes:\n",
    "_rdd = rddPhones.union(rddWatches)"
   ]
  },
  {
   "cell_type": "code",
   "execution_count": null,
   "metadata": {},
   "outputs": [],
   "source": [
    "# Y se muestran los resultados:\n",
    "#print(_rdd.collect())"
   ]
  },
  {
   "cell_type": "markdown",
   "metadata": {},
   "source": [
    "Nótese que el formato del fichero resultante tras el tratamiento y concatenación de los 4 ficheros de sensores no es exactamente el pedido, si bien contiene toda la información requerida en el enuncciado \n",
    "con clave común para los ficheros y valor de cada fichero y en el formato siguiente:\n",
    "\n",
    "[(clave de campos User + Model + Gt), valores_x_fich1, valores_y_fich1, valores_z_fich1, \n",
    "                                      valores_x_fich2, valores_y_fich2, valores_z_fich2,\n",
    "                                      ..................................................]"
   ]
  },
  {
   "cell_type": "markdown",
   "metadata": {},
   "source": [
    "Tiempo final de ejecución:"
   ]
  },
  {
   "cell_type": "code",
   "execution_count": null,
   "metadata": {},
   "outputs": [],
   "source": [
    "end_time = t.time()"
   ]
  },
  {
   "cell_type": "code",
   "execution_count": null,
   "metadata": {},
   "outputs": [],
   "source": [
    "total_time = end_time - init_time\n",
    "#print(total_time)"
   ]
  },
  {
   "cell_type": "markdown",
   "metadata": {},
   "source": [
    "<h6>Análisis de tiempos variando cores:</h6>\n",
    "Los resultados de ejecuciones tras variar el número de cores son los siguientes:\n",
    "\n",
    "- Tiempo de ejecución con 1 core:  4.4723 s\n",
    "\n",
    "- Tiempo de ejecución con 4 cores: 4.9908 s\n",
    "\n",
    "- Tiempo de ejecución con 8 cores: 4.3156 s\n",
    "\n",
    "es decir, con estas medidas no pueden sacarse conclusiones acerca de cómo afecta el número de cores al rendimiento.\n",
    "\n"
   ]
  },
  {
   "cell_type": "code",
   "execution_count": null,
   "metadata": {},
   "outputs": [],
   "source": [
    "# Añadido para la ejecución desde otro notebook de la P2:\n",
    "def foo():\n",
    "    print(total_time)\n",
    "foo()"
   ]
  }
 ],
 "metadata": {
  "kernelspec": {
   "display_name": "Python 3",
   "language": "python",
   "name": "python3"
  },
  "language_info": {
   "codemirror_mode": {
    "name": "ipython",
    "version": 3
   },
   "file_extension": ".py",
   "mimetype": "text/x-python",
   "name": "python",
   "nbconvert_exporter": "python",
   "pygments_lexer": "ipython3",
   "version": "3.6.9"
  }
 },
 "nbformat": 4,
 "nbformat_minor": 2
}
