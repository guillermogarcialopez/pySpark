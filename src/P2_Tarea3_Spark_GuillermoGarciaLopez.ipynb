{
 "cells": [
  {
   "cell_type": "markdown",
   "metadata": {},
   "source": [
    "<h1>ECOSISTEMA SPARK</h1>\n",
    "\n",
    "<h1>Práctica 2: SparkSQL</h1>\n",
    "\n",
    "<h1>TAREA 3</h1>"
   ]
  },
  {
   "cell_type": "markdown",
   "metadata": {},
   "source": [
    "<h4>Autor: Guillermo García López</h4>"
   ]
  },
  {
   "cell_type": "markdown",
   "metadata": {},
   "source": [
    "<h1><font color='gray'>Objetivo 1<font></h1>"
   ]
  },
  {
   "cell_type": "code",
   "execution_count": 1,
   "metadata": {},
   "outputs": [
    {
     "data": {
      "text/html": [
       "<style>pre { white-space: pre !important; }</style>"
      ],
      "text/plain": [
       "<IPython.core.display.HTML object>"
      ]
     },
     "metadata": {},
     "output_type": "display_data"
    }
   ],
   "source": [
    "# Comando para habilitar scrolling horizontal en celdas\n",
    "from IPython.core.display import HTML\n",
    "display(HTML(\"<style>pre { white-space: pre !important; }</style>\"))"
   ]
  },
  {
   "cell_type": "code",
   "execution_count": 2,
   "metadata": {},
   "outputs": [],
   "source": [
    "# Se crea sparksession para utilidades SparkSQL\n",
    "from pyspark.sql import SparkSession, Row\n",
    "\n",
    "spark = SparkSession \\\n",
    "    .builder \\\n",
    "    .appName(\"Python Spark SQL - Practica 2\") \\\n",
    "    .config(\"spark.some.config.option\", \"some-value\") \\\n",
    "    .getOrCreate()\n",
    "    \n",
    "# Se crea SparkContext() para utilidades sobre RDD's\n",
    "sc = SparkContext.getOrCreate()"
   ]
  },
  {
   "cell_type": "markdown",
   "metadata": {},
   "source": [
    "Se cargan los dataframes a partir de los csv's:"
   ]
  },
  {
   "cell_type": "code",
   "execution_count": 3,
   "metadata": {},
   "outputs": [],
   "source": [
    "bookRatings = spark.read.option(\"delimiter\", \";\").option(\"header\", \"true\")     \\\n",
    "                   .csv('./books_crossing/BX-CSV-Dump/BX-Book-Ratings.csv')\n",
    "books = spark.read.option(\"delimiter\", \";\").option(\"header\", \"true\")     \\\n",
    "             .csv('./books_crossing/BX-CSV-Dump/BX-Books.csv')\n",
    "users = spark.read.option(\"delimiter\", \";\").option(\"header\", \"true\")     \\\n",
    "                   .csv('./books_crossing/BX-CSV-Dump/BX-Users.csv')"
   ]
  },
  {
   "cell_type": "code",
   "execution_count": 4,
   "metadata": {},
   "outputs": [
    {
     "name": "stdout",
     "output_type": "stream",
     "text": [
      "+-------+----------+-----------+\n",
      "|User-ID|      ISBN|Book-Rating|\n",
      "+-------+----------+-----------+\n",
      "| 276725|034545104X|          0|\n",
      "| 276726|0155061224|          5|\n",
      "| 276727|0446520802|          0|\n",
      "| 276729|052165615X|          3|\n",
      "| 276729|0521795028|          6|\n",
      "+-------+----------+-----------+\n",
      "\n"
     ]
    }
   ],
   "source": [
    "bookRatings.limit(5).show()"
   ]
  },
  {
   "cell_type": "code",
   "execution_count": 5,
   "metadata": {},
   "outputs": [
    {
     "name": "stdout",
     "output_type": "stream",
     "text": [
      "+----------+--------------------+--------------------+-------------------+--------------------+--------------------+--------------------+--------------------+\n",
      "|      ISBN|          Book-Title|         Book-Author|Year-Of-Publication|           Publisher|         Image-URL-S|         Image-URL-M|         Image-URL-L|\n",
      "+----------+--------------------+--------------------+-------------------+--------------------+--------------------+--------------------+--------------------+\n",
      "|0195153448| Classical Mythology|  Mark P. O. Morford|               2002|Oxford University...|http://images.ama...|http://images.ama...|http://images.ama...|\n",
      "|0002005018|        Clara Callan|Richard Bruce Wright|               2001|HarperFlamingo Ca...|http://images.ama...|http://images.ama...|http://images.ama...|\n",
      "|0060973129|Decision in Normandy|        Carlo D'Este|               1991|     HarperPerennial|http://images.ama...|http://images.ama...|http://images.ama...|\n",
      "|0374157065|Flu: The Story of...|    Gina Bari Kolata|               1999|Farrar Straus Giroux|http://images.ama...|http://images.ama...|http://images.ama...|\n",
      "|0393045218|The Mummies of Ur...|     E. J. W. Barber|               1999|W. W. Norton &amp...|http://images.ama...|http://images.ama...|http://images.ama...|\n",
      "+----------+--------------------+--------------------+-------------------+--------------------+--------------------+--------------------+--------------------+\n",
      "\n"
     ]
    }
   ],
   "source": [
    "books.limit(5).show()"
   ]
  },
  {
   "cell_type": "code",
   "execution_count": 6,
   "metadata": {},
   "outputs": [
    {
     "name": "stdout",
     "output_type": "stream",
     "text": [
      "+-------+--------------------+----+\n",
      "|User-ID|            Location| Age|\n",
      "+-------+--------------------+----+\n",
      "|      1|  nyc, new york, usa|NULL|\n",
      "|      2|stockton, califor...|  18|\n",
      "|      3|moscow, yukon ter...|NULL|\n",
      "|      4|porto, v.n.gaia, ...|  17|\n",
      "|      5|farnborough, hant...|NULL|\n",
      "+-------+--------------------+----+\n",
      "\n"
     ]
    }
   ],
   "source": [
    "users.limit(5).show()"
   ]
  },
  {
   "cell_type": "markdown",
   "metadata": {},
   "source": [
    "Y se calculan los datos pedidos:"
   ]
  },
  {
   "cell_type": "markdown",
   "metadata": {},
   "source": [
    "- Lista de usuarios junto con el número de libros que han valorado:"
   ]
  },
  {
   "cell_type": "code",
   "execution_count": 7,
   "metadata": {},
   "outputs": [
    {
     "name": "stdout",
     "output_type": "stream",
     "text": [
      "+-------+-------------+\n",
      "|User-ID|#_books_rated|\n",
      "+-------+-------------+\n",
      "| 277594|            1|\n",
      "| 277840|            1|\n",
      "| 278220|            2|\n",
      "| 278659|            1|\n",
      "|   1436|           12|\n",
      "|   2136|           10|\n",
      "|   3959|            2|\n",
      "|   4032|            2|\n",
      "|   4821|            3|\n",
      "|   4937|            5|\n",
      "|   5325|            1|\n",
      "|   5925|            1|\n",
      "|   6613|            1|\n",
      "|   6731|           26|\n",
      "|   7711|            1|\n",
      "|   8433|            1|\n",
      "|   9030|            1|\n",
      "|   9583|            1|\n",
      "|   9586|            2|\n",
      "|   9993|            1|\n",
      "+-------+-------------+\n",
      "only showing top 20 rows\n",
      "\n"
     ]
    }
   ],
   "source": [
    "bookRatings.groupBy(['User-ID']).count().withColumnRenamed('count', '#_books_rated').show()"
   ]
  },
  {
   "cell_type": "markdown",
   "metadata": {},
   "source": [
    "- Rating máximo recibido por cada editorial:"
   ]
  },
  {
   "cell_type": "markdown",
   "metadata": {},
   "source": [
    "Se cruzan 'bookRatings' y 'books' por columna 'ISBN', deshechando filas con valor 'Publisher' a nulos, renombrando\n",
    "las columnas 'Book-Rating' y 'Book-Author' para eliminar el carácter '-' y casteandola columna 'BookRating' \n",
    "a tipo 'int':"
   ]
  },
  {
   "cell_type": "code",
   "execution_count": 8,
   "metadata": {},
   "outputs": [],
   "source": [
    "booksAndRatings = books.join(bookRatings, ['ISBN'], 'full').select('ISBN', 'Book-Rating', 'Publisher', 'Book-Author') \\\n",
    "                       .withColumnRenamed('Book-Rating', 'BookRating') \\\n",
    "                       .withColumnRenamed('Book-Author', 'BookAuthor') \\\n",
    "                       .selectExpr(\"cast(ISBN as string) ISBN\", \"cast(BookRating as integer) BookRating\", \\\n",
    "                                   \"cast(Publisher as string) Publisher\", \"cast(BookAuthor as string) BookAuthor\")"
   ]
  },
  {
   "cell_type": "code",
   "execution_count": 9,
   "metadata": {},
   "outputs": [
    {
     "name": "stdout",
     "output_type": "stream",
     "text": [
      "root\n",
      " |-- ISBN: string (nullable = true)\n",
      " |-- BookRating: integer (nullable = true)\n",
      " |-- Publisher: string (nullable = true)\n",
      " |-- BookAuthor: string (nullable = true)\n",
      "\n"
     ]
    }
   ],
   "source": [
    "booksAndRatings.printSchema()"
   ]
  },
  {
   "cell_type": "markdown",
   "metadata": {},
   "source": [
    "Y se realiza la operación para retornar los datos:"
   ]
  },
  {
   "cell_type": "code",
   "execution_count": 10,
   "metadata": {},
   "outputs": [],
   "source": [
    "maxRatingperPubl = booksAndRatings.groupBy(['Publisher']) \\\n",
    "                                  .max('BookRating') \\\n",
    "                                  .withColumnRenamed('max(BookRating)', 'max_rate_obtained')"
   ]
  },
  {
   "cell_type": "code",
   "execution_count": 11,
   "metadata": {},
   "outputs": [
    {
     "name": "stdout",
     "output_type": "stream",
     "text": [
      "+--------------------+-----------------+\n",
      "|           Publisher|max_rate_obtained|\n",
      "+--------------------+-----------------+\n",
      "|Harper Mass Marke...|               10|\n",
      "|Houghton Mifflin ...|               10|\n",
      "|Carroll &amp; Gra...|               10|\n",
      "|      Celestial Arts|               10|\n",
      "|Faith Publishing ...|                8|\n",
      "|         Cleis Press|               10|\n",
      "|Ullstein-Taschenb...|               10|\n",
      "|Chicago Review Press|               10|\n",
      "|    Adams Media Corp|               10|\n",
      "|         Bertelsmann|                9|\n",
      "|Orion Business Books|                1|\n",
      "|        Book Pub. Co|                0|\n",
      "|        Chosen Books|               10|\n",
      "|         Hermetic Pr|               10|\n",
      "|        Lorenz Books|               10|\n",
      "| Research Press (IL)|                7|\n",
      "|Editiones B, Grup...|                0|\n",
      "|      Aqua Explorers|                9|\n",
      "|           LPC Group|                9|\n",
      "|Community Communi...|                8|\n",
      "+--------------------+-----------------+\n",
      "only showing top 20 rows\n",
      "\n"
     ]
    }
   ],
   "source": [
    "maxRatingperPubl.show()"
   ]
  },
  {
   "cell_type": "markdown",
   "metadata": {},
   "source": [
    "- Nombre del autor que ha recibido más ratings:"
   ]
  },
  {
   "cell_type": "markdown",
   "metadata": {},
   "source": [
    "Con el dataframe anteriormente creado, podemos realizar la operación de agregación para obtener el resultado:"
   ]
  },
  {
   "cell_type": "code",
   "execution_count": 13,
   "metadata": {},
   "outputs": [],
   "source": [
    "mostRatedAuthor = booksAndRatings.groupBy(['BookAuthor']).count().withColumnRenamed('count', '#_ratings') \\\n",
    "                                 .orderBy(['#_ratings'], ascending=0)"
   ]
  },
  {
   "cell_type": "code",
   "execution_count": 14,
   "metadata": {},
   "outputs": [
    {
     "name": "stdout",
     "output_type": "stream",
     "text": [
      "+------------+---------+\n",
      "|  BookAuthor|#_ratings|\n",
      "+------------+---------+\n",
      "|Stephen King|    10055|\n",
      "+------------+---------+\n",
      "\n"
     ]
    }
   ],
   "source": [
    "mostRatedAuthor.where(mostRatedAuthor['BookAuthor'] != 'null').limit(1).show()"
   ]
  },
  {
   "cell_type": "markdown",
   "metadata": {},
   "source": [
    "De manera que el autor que más ratings ha recibido es Stephen King."
   ]
  },
  {
   "cell_type": "markdown",
   "metadata": {},
   "source": [
    "<h1><font color='gray'>Objetivo 2<font></h1>"
   ]
  },
  {
   "cell_type": "code",
   "execution_count": null,
   "metadata": {},
   "outputs": [],
   "source": []
  },
  {
   "cell_type": "code",
   "execution_count": null,
   "metadata": {},
   "outputs": [],
   "source": []
  },
  {
   "cell_type": "code",
   "execution_count": null,
   "metadata": {},
   "outputs": [],
   "source": []
  },
  {
   "cell_type": "code",
   "execution_count": null,
   "metadata": {},
   "outputs": [],
   "source": []
  },
  {
   "cell_type": "code",
   "execution_count": null,
   "metadata": {},
   "outputs": [],
   "source": []
  }
 ],
 "metadata": {
  "kernelspec": {
   "display_name": "Python 3",
   "language": "python",
   "name": "python3"
  },
  "language_info": {
   "codemirror_mode": {
    "name": "ipython",
    "version": 3
   },
   "file_extension": ".py",
   "mimetype": "text/x-python",
   "name": "python",
   "nbconvert_exporter": "python",
   "pygments_lexer": "ipython3",
   "version": "3.6.9"
  }
 },
 "nbformat": 4,
 "nbformat_minor": 2
}
