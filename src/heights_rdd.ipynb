{
 "cells": [
  {
   "cell_type": "markdown",
   "metadata": {},
   "source": [
    "<h3>PySpark: heights dataset</h3>\n",
    "<br>\n",
    "<span>In this notebook we present a basical treatment of a dataset which contains data about some people's heights.</span>"
   ]
  },
  {
   "cell_type": "markdown",
   "metadata": {},
   "source": [
    "<h3>1. Data preprocessing</h3>"
   ]
  },
  {
   "cell_type": "code",
   "execution_count": 14,
   "metadata": {},
   "outputs": [],
   "source": [
    "if not ((\"sc\" in globals()) or (\"sc\" in locals())):\n",
    "    import pyspark\n",
    "    sc = pyspark.SparkContext()"
   ]
  },
  {
   "cell_type": "markdown",
   "metadata": {},
   "source": [
    "Sneak peek to the file:"
   ]
  },
  {
   "cell_type": "code",
   "execution_count": 45,
   "metadata": {},
   "outputs": [
    {
     "name": "stdout",
     "output_type": "stream",
     "text": [
      "173\r\n",
      "161\r\n",
      "176\r\n",
      "180\r\n",
      "1.62\r\n"
     ]
    }
   ],
   "source": [
    "!(head -5 ../data/heights_v0.csv)"
   ]
  },
  {
   "cell_type": "markdown",
   "metadata": {},
   "source": [
    "Creating the RDD:"
   ]
  },
  {
   "cell_type": "code",
   "execution_count": 15,
   "metadata": {},
   "outputs": [],
   "source": [
    "heightsv0 = sc.textFile(\"../data/heights_v0.csv\")"
   ]
  },
  {
   "cell_type": "markdown",
   "metadata": {},
   "source": [
    "Casting data to float type and keeping only data above 100 cm:"
   ]
  },
  {
   "cell_type": "code",
   "execution_count": 16,
   "metadata": {},
   "outputs": [],
   "source": [
    "_heightsv00 = heightsv0.map(lambda el: float(el)).filter(lambda el: el != -100.0)"
   ]
  },
  {
   "cell_type": "code",
   "execution_count": 17,
   "metadata": {},
   "outputs": [],
   "source": [
    "_heightsv01 = _heightsv00.filter(lambda el: el >= 100)"
   ]
  },
  {
   "cell_type": "markdown",
   "metadata": {},
   "source": [
    "Data less than 100 are in metres units: multiply them by 100 into centimetres:"
   ]
  },
  {
   "cell_type": "code",
   "execution_count": 18,
   "metadata": {},
   "outputs": [],
   "source": [
    "_heightsv02 = _heightsv00.filter(lambda el: el < 100)           \\\n",
    "                     .map(lambda el: el*100)"
   ]
  },
  {
   "cell_type": "markdown",
   "metadata": {},
   "source": [
    "<h3>2. Union of RDDs and mean, stdev.</h3>"
   ]
  },
  {
   "cell_type": "code",
   "execution_count": 19,
   "metadata": {},
   "outputs": [],
   "source": [
    "_heightsv0 = _heightsv01.union(_heightsv02)"
   ]
  },
  {
   "cell_type": "code",
   "execution_count": 22,
   "metadata": {},
   "outputs": [
    {
     "name": "stdout",
     "output_type": "stream",
     "text": [
      "Mean: 168.9383 cm\n",
      "Std deviation: 168.9383 cm\n"
     ]
    }
   ],
   "source": [
    "mean = _heightsv0.reduce(lambda el1, el2: el1 + el2) / _heightsv0.count()\n",
    "stdev = _heightsv0.reduce(lambda el1, el2: el1 + el2) / _heightsv0.count()\n",
    "print(\"Mean: {0:5.4f} cm\\nStd deviation: {1:5.4f} cm\".format(mean, stdev))\n",
    "# print(\"Std deviation: {0:5.4f}\".format(stdev))"
   ]
  },
  {
   "cell_type": "markdown",
   "metadata": {},
   "source": [
    "<hr>"
   ]
  },
  {
   "cell_type": "markdown",
   "metadata": {},
   "source": [
    "<h3>3. On another similar dataset: calculate mean an stdev on heights by gender (male 'H' and female 'F').</h3>"
   ]
  },
  {
   "cell_type": "markdown",
   "metadata": {},
   "source": [
    "Senak peek on the file:"
   ]
  },
  {
   "cell_type": "code",
   "execution_count": 46,
   "metadata": {},
   "outputs": [
    {
     "name": "stdout",
     "output_type": "stream",
     "text": [
      "H,173\r\n",
      "M,161\r\n",
      "H,176\r\n",
      "H,180\r\n",
      "M,1.62\r\n"
     ]
    }
   ],
   "source": [
    "!(head -5 ../data/heights.csv)"
   ]
  },
  {
   "cell_type": "code",
   "execution_count": 23,
   "metadata": {},
   "outputs": [],
   "source": [
    "heights = sc.textFile(\"../data/heights.csv\")"
   ]
  },
  {
   "cell_type": "code",
   "execution_count": 24,
   "metadata": {},
   "outputs": [],
   "source": [
    "# Format (gender, height)\n",
    "_heights1 = heights.map(lambda el: el.split(','))  \\\n",
    "                   .map(lambda el: (el[0], float(el[1]) ))  \\\n",
    "                   .filter(lambda el: el[1] != -100.0)"
   ]
  },
  {
   "cell_type": "markdown",
   "metadata": {},
   "source": [
    "Data above 100 cm (correct units):"
   ]
  },
  {
   "cell_type": "code",
   "execution_count": 25,
   "metadata": {},
   "outputs": [],
   "source": [
    "_heights2 = _heights1.filter(lambda el: el[1] >= 100.0)"
   ]
  },
  {
   "cell_type": "markdown",
   "metadata": {},
   "source": [
    "Data under 100 (metres units) are multiplied by 100:"
   ]
  },
  {
   "cell_type": "code",
   "execution_count": 26,
   "metadata": {},
   "outputs": [],
   "source": [
    "_heights3 = _heights1.filter(lambda el: el[1] < 100.0).map(lambda el: (el[0], el[1]*100))"
   ]
  },
  {
   "cell_type": "code",
   "execution_count": 27,
   "metadata": {},
   "outputs": [],
   "source": [
    "_heights = _heights1.union(_heights2)"
   ]
  },
  {
   "cell_type": "markdown",
   "metadata": {},
   "source": [
    "Filter by gender:"
   ]
  },
  {
   "cell_type": "code",
   "execution_count": 28,
   "metadata": {},
   "outputs": [],
   "source": [
    "_heightsMen = _heights.filter(lambda el: el[0] == 'H').map(lambda el: el[1])\n",
    "_heightsWomen = _heights.filter(lambda el: el[0] != 'H').map(lambda el: el[1])"
   ]
  },
  {
   "cell_type": "markdown",
   "metadata": {},
   "source": [
    "Mean and stdev are calculated for men and women:"
   ]
  },
  {
   "cell_type": "code",
   "execution_count": 35,
   "metadata": {},
   "outputs": [],
   "source": [
    "def calc_mean_stdev(rdd, gender):\n",
    "#     _sum = rdd.reduce(lambda el1, el2: el1 + el2)\n",
    "#     _count = rdd.reduce\n",
    "#     _count = \n",
    "    _mean = rdd.reduce(lambda el1, el2: el1 + el2) / rdd.count()\n",
    "    _std = (rdd.map(lambda el: (el-_mean)**2)\\\n",
    "                .reduce(lambda el1, el2: el1 + el2) * (1/rdd.count()))**(1/2)\n",
    "    print('Mean of {0}: {1:5.4f} cm\\nStdev of {0}: {2:5.4f} '.format(gender, _mean, _std))"
   ]
  },
  {
   "cell_type": "code",
   "execution_count": 36,
   "metadata": {},
   "outputs": [
    {
     "name": "stdout",
     "output_type": "stream",
     "text": [
      "Mean of men: 169.5991 cm\n",
      "Stdev of men: 26.4927 \n"
     ]
    }
   ],
   "source": [
    "calc_mean_stdev(_heightsMen, 'men')"
   ]
  },
  {
   "cell_type": "code",
   "execution_count": 37,
   "metadata": {},
   "outputs": [
    {
     "name": "stdout",
     "output_type": "stream",
     "text": [
      "Mean of women: 159.8910 cm\n",
      "Stdev of women: 26.5151 \n"
     ]
    }
   ],
   "source": [
    "calc_mean_stdev(_heightsWomen, 'women')"
   ]
  }
 ],
 "metadata": {
  "kernelspec": {
   "display_name": "Pyspark (Py3)",
   "language": "",
   "name": "pyspark"
  },
  "language_info": {
   "codemirror_mode": {
    "name": "ipython",
    "version": 3
   },
   "file_extension": ".py",
   "mimetype": "text/x-python",
   "name": "python",
   "nbconvert_exporter": "python",
   "pygments_lexer": "ipython3",
   "version": "3.6.7"
  }
 },
 "nbformat": 4,
 "nbformat_minor": 2
}
