{
 "cells": [
  {
   "cell_type": "markdown",
   "metadata": {},
   "source": [
    "<h1>Práctica 1 PySpark</h1>  "
   ]
  },
  {
   "cell_type": "markdown",
   "metadata": {},
   "source": [
    "<h5>Autor: Guillermo García López<h5>"
   ]
  },
  {
   "cell_type": "markdown",
   "metadata": {},
   "source": [
    "# Ejercicios básicos"
   ]
  },
  {
   "cell_type": "markdown",
   "metadata": {},
   "source": [
    "<h3>1. Calcular la media y la desviación típica de un fichero con alturas (alturas_v0.csv). Cada fila tiene\n",
    "una altura (en cm). Sin embargo, algunas filas tienen errores y pone -100. Asimismo, en algunas\n",
    "filas las alturas están en metros en vez de en centímetros. Antes de calcular la media y la\n",
    "desviación, hay que filtrar los datos erróneos y corregir los datos en otras unidades.</h3>"
   ]
  },
  {
   "cell_type": "markdown",
   "metadata": {},
   "source": [
    "<h6>Resolución:</h6>"
   ]
  },
  {
   "cell_type": "markdown",
   "metadata": {},
   "source": [
    "Creamos Spark Context:"
   ]
  },
  {
   "cell_type": "code",
   "execution_count": 1,
   "metadata": {},
   "outputs": [],
   "source": [
    "from pyspark import SparkContext\n",
    "sc = SparkContext.getOrCreate()"
   ]
  },
  {
   "cell_type": "markdown",
   "metadata": {},
   "source": [
    "Se importa el fichero \"alturas_v0.csv\":"
   ]
  },
  {
   "cell_type": "code",
   "execution_count": 2,
   "metadata": {},
   "outputs": [],
   "source": [
    "alturasv0 = sc.textFile(\"alturas_v0.csv\")"
   ]
  },
  {
   "cell_type": "markdown",
   "metadata": {},
   "source": [
    "Se transforma el fichero, casteando cada dato a tipo float, y se filtra el fichero: sólo se seleccionarán \n",
    "elementos != -100.0:"
   ]
  },
  {
   "cell_type": "code",
   "execution_count": 3,
   "metadata": {},
   "outputs": [],
   "source": [
    "_alturasv00 = alturasv0.map(lambda el: float(el))                                 \\\n",
    "                   .filter(lambda el: el != -100.0)"
   ]
  },
  {
   "cell_type": "markdown",
   "metadata": {},
   "source": [
    "Se crea un RDD con los datos que vienen correctos (en cm):"
   ]
  },
  {
   "cell_type": "code",
   "execution_count": 4,
   "metadata": {},
   "outputs": [],
   "source": [
    "_alturasv01 = _alturasv00.filter(lambda el: el >= 100)"
   ]
  },
  {
   "cell_type": "markdown",
   "metadata": {},
   "source": [
    "Se crea otro RDD con los datos que vienen en metros (< 100), se transforma a cm:"
   ]
  },
  {
   "cell_type": "code",
   "execution_count": 5,
   "metadata": {},
   "outputs": [],
   "source": [
    "_alturasv02 = _alturasv00.filter(lambda el: el < 100)           \\\n",
    "                     .map(lambda el: el*100)"
   ]
  },
  {
   "cell_type": "markdown",
   "metadata": {},
   "source": [
    "Se unen ambos RDDs:"
   ]
  },
  {
   "cell_type": "code",
   "execution_count": 6,
   "metadata": {},
   "outputs": [],
   "source": [
    "_alturasv0 = _alturasv01.union(_alturasv02)"
   ]
  },
  {
   "cell_type": "markdown",
   "metadata": {},
   "source": [
    "Se calcula la media y desviación estándar de los datos:"
   ]
  },
  {
   "cell_type": "code",
   "execution_count": 10,
   "metadata": {},
   "outputs": [
    {
     "name": "stdout",
     "output_type": "stream",
     "text": [
      "Media de alturas: 168.9383\n",
      "Desviación de alturas: 168.9383\n"
     ]
    }
   ],
   "source": [
    "media = _alturasv0.reduce(lambda el1, el2: el1 + el2) / _alturasv0.count()\n",
    "desvest = _alturasv0.reduce(lambda el1, el2: el1 + el2) / _alturasv0.count()\n",
    "print(\"Media de alturas: {0:5.4f}\".format(media))\n",
    "print(\"Desviación de alturas: {0:5.4f}\".format(desvest))"
   ]
  },
  {
   "cell_type": "markdown",
   "metadata": {},
   "source": [
    "<hr>"
   ]
  },
  {
   "cell_type": "markdown",
   "metadata": {},
   "source": [
    "<h3>2. Calcular la media y la desviación típica de un fichero con alturas (alturas.csv) por género. Cada\n",
    "    fila tiene género y altura (en cm). Se presentan los mismos errores que en el caso precedente.\n",
    "    Transformaciones y acciones sugeridas: textFile, map, reduce, float(str) (Convierte una cadena a\n",
    "    float), filter, count, split, etc.</h3>"
   ]
  },
  {
   "cell_type": "markdown",
   "metadata": {},
   "source": [
    "<h6>Resolución:</h6>"
   ]
  },
  {
   "cell_type": "markdown",
   "metadata": {},
   "source": [
    "Se importa el fichero \"alturas.csv\":"
   ]
  },
  {
   "cell_type": "code",
   "execution_count": 14,
   "metadata": {},
   "outputs": [],
   "source": [
    "alturas = sc.textFile(\"alturas.csv\")"
   ]
  },
  {
   "cell_type": "markdown",
   "metadata": {},
   "source": [
    "Se transforma el fichero para crear una lista de tuplas ('género', altura),y se filtra el fichero: sólo se \n",
    "seleccionarán elementos != -100.0:"
   ]
  },
  {
   "cell_type": "code",
   "execution_count": 15,
   "metadata": {},
   "outputs": [],
   "source": [
    "_alturas1 = alturas.map(lambda el: el.split(','))  \\\n",
    "                   .map(lambda el: (el[0], float(el[1]) ))  \\\n",
    "                   .filter(lambda el: el[1] != -100.0)"
   ]
  },
  {
   "cell_type": "markdown",
   "metadata": {},
   "source": [
    "Se crea un RDD con los datos que vienen correctos (en cm):"
   ]
  },
  {
   "cell_type": "code",
   "execution_count": 16,
   "metadata": {},
   "outputs": [],
   "source": [
    "_alturas2 = _alturas1.filter(lambda el: el[1] >= 100.0)"
   ]
  },
  {
   "cell_type": "markdown",
   "metadata": {},
   "source": [
    "Se crea otro RDD con los datos que vienen en metros (< 100), se transforma a cm:"
   ]
  },
  {
   "cell_type": "code",
   "execution_count": 17,
   "metadata": {},
   "outputs": [],
   "source": [
    "_alturas3 = _alturas1.filter(lambda el: el[1] < 100.0)           \\\n",
    "                     .map(lambda el: (el[0], el[1]*100))"
   ]
  },
  {
   "cell_type": "markdown",
   "metadata": {},
   "source": [
    "Se unen ambos RDDs:"
   ]
  },
  {
   "cell_type": "code",
   "execution_count": 18,
   "metadata": {},
   "outputs": [],
   "source": [
    "_alturas = _alturas1.union(_alturas2)"
   ]
  },
  {
   "cell_type": "markdown",
   "metadata": {},
   "source": [
    "A partir de este RDD se crea uno para hombres y otro para mujeres, seleccionando únicamente los valores numéricos:"
   ]
  },
  {
   "cell_type": "code",
   "execution_count": 19,
   "metadata": {},
   "outputs": [],
   "source": [
    "_alturasH = _alturas.filter(lambda el: el[0] == 'H')\\\n",
    "                    .map(lambda el: el[1])\n",
    "_alturasM = _alturas.filter(lambda el: el[0] != 'H')\\\n",
    "                    .map(lambda el: el[1])"
   ]
  },
  {
   "cell_type": "markdown",
   "metadata": {},
   "source": [
    "Y se calculan media y desviación para cada RDD:"
   ]
  },
  {
   "cell_type": "code",
   "execution_count": 20,
   "metadata": {},
   "outputs": [
    {
     "name": "stdout",
     "output_type": "stream",
     "text": [
      "Media de Hombres: 169.5991 | Desviación de Hombres: 26.4927\n"
     ]
    }
   ],
   "source": [
    "sumaH  =  _alturasH.reduce(lambda el1, el2: el1+el2)\n",
    "countH = _alturasH.count()\n",
    "meanH  = sumaH / countH\n",
    "auxH = _alturasH.map(lambda el: (el-meanH)**2)\\\n",
    "                .reduce(lambda el1, el2: el1 + el2)\n",
    "stdH = ((1/countH) * auxH)**(1/2)\n",
    "print(\"Media de Hombres: {0:5.4f} | Desviación de Hombres: {1:5.4f}\".format(meanH, stdH))"
   ]
  },
  {
   "cell_type": "code",
   "execution_count": 21,
   "metadata": {},
   "outputs": [
    {
     "name": "stdout",
     "output_type": "stream",
     "text": [
      "Media de Mujeres: 159.8910 | Desviación de Mujeres: 26.5151\n"
     ]
    }
   ],
   "source": [
    "sumaM =  _alturasM.reduce(lambda el1, el2: el1+el2)\n",
    "countM = _alturasM.count()\n",
    "meanM  = sumaM / countM\n",
    "auxM = _alturasM.map(lambda el: (el-meanM)**2)\\\n",
    "                .reduce(lambda el1, el2: el1 + el2)\n",
    "stdM = ((1/countM) * auxM)**(1/2)\n",
    "print(\"Media de Mujeres: {0:5.4f} | Desviación de Mujeres: {1:5.4f}\".format(meanM, stdM))"
   ]
  },
  {
   "cell_type": "code",
   "execution_count": null,
   "metadata": {},
   "outputs": [],
   "source": []
  }
 ],
 "metadata": {
  "kernelspec": {
   "display_name": "Python 3",
   "language": "python",
   "name": "python3"
  },
  "language_info": {
   "codemirror_mode": {
    "name": "ipython",
    "version": 3
   },
   "file_extension": ".py",
   "mimetype": "text/x-python",
   "name": "python",
   "nbconvert_exporter": "python",
   "pygments_lexer": "ipython3",
   "version": "3.6.9"
  }
 },
 "nbformat": 4,
 "nbformat_minor": 2
}
